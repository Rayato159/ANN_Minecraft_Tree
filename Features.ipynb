{
 "cells": [
  {
   "cell_type": "code",
   "execution_count": 1,
   "metadata": {},
   "outputs": [],
   "source": [
    "import numpy as np\n",
    "import os\n",
    "import cv2"
   ]
  },
  {
   "cell_type": "code",
   "execution_count": 2,
   "metadata": {},
   "outputs": [
    {
     "name": "stdout",
     "output_type": "stream",
     "text": [
      "C:\\Users\\acer\\ML_SUT\\Perceptron\n"
     ]
    }
   ],
   "source": [
    "path_ws = os.getcwd()\n",
    "print(path_ws)"
   ]
  },
  {
   "cell_type": "code",
   "execution_count": 3,
   "metadata": {},
   "outputs": [
    {
     "name": "stdout",
     "output_type": "stream",
     "text": [
      "['.ipynb_checkpoints', 'Datasets', 'Features.ipynb', 'Image', 'MLPClassification.ipynb', 'Oak_generate.ipynb', 'Spruce_generate.ipynb']\n"
     ]
    }
   ],
   "source": [
    "print(os.listdir(path_ws))"
   ]
  },
  {
   "cell_type": "code",
   "execution_count": 4,
   "metadata": {},
   "outputs": [
    {
     "name": "stdout",
     "output_type": "stream",
     "text": [
      "C:\\Users\\acer\\ML_SUT\\Perceptron\\Image\n"
     ]
    }
   ],
   "source": [
    "path_img = os.getcwd()+\"\\\\\"+str(\"Image\")\n",
    "print(path_img)"
   ]
  },
  {
   "cell_type": "code",
   "execution_count": 5,
   "metadata": {},
   "outputs": [],
   "source": [
    "Oak = []\n",
    "for img in os.listdir(path_img+\"\\\\\"+str(\"Oak\")):\n",
    "    pic = cv2.imread(os.path.join(path_img+\"\\\\\"+str(\"Oak\"), img))\n",
    "    pic = cv2.cvtColor(pic, cv2.COLOR_BGR2GRAY)\n",
    "    pic = cv2.resize(pic,(16,16))\n",
    "    Oak.append([pic])"
   ]
  },
  {
   "cell_type": "code",
   "execution_count": 6,
   "metadata": {},
   "outputs": [],
   "source": [
    "np.save(os.path.join(path_ws+\"\\\\\"+\"Datasets\", \"Oak\"), np.array(Oak))"
   ]
  },
  {
   "cell_type": "code",
   "execution_count": 7,
   "metadata": {},
   "outputs": [],
   "source": [
    "Spruce = []\n",
    "for img in os.listdir(path_img+\"\\\\\"+str(\"Spruce\")):\n",
    "    pic = cv2.imread(os.path.join(path_img+\"\\\\\"+str(\"Spruce\"), img))\n",
    "    pic = cv2.cvtColor(pic, cv2.COLOR_BGR2GRAY)\n",
    "    pic = cv2.resize(pic,(16,16))\n",
    "    Spruce.append([pic])"
   ]
  },
  {
   "cell_type": "code",
   "execution_count": 8,
   "metadata": {},
   "outputs": [],
   "source": [
    "np.save(os.path.join(path_ws+\"\\\\\"+\"Datasets\", \"Spruce\"), np.array(Spruce))"
   ]
  }
 ],
 "metadata": {
  "kernelspec": {
   "display_name": "Python 3",
   "language": "python",
   "name": "python3"
  },
  "language_info": {
   "codemirror_mode": {
    "name": "ipython",
    "version": 3
   },
   "file_extension": ".py",
   "mimetype": "text/x-python",
   "name": "python",
   "nbconvert_exporter": "python",
   "pygments_lexer": "ipython3",
   "version": "3.7.6"
  }
 },
 "nbformat": 4,
 "nbformat_minor": 4
}
