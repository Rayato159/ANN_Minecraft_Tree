{
 "cells": [
  {
   "cell_type": "code",
   "execution_count": 1,
   "metadata": {},
   "outputs": [],
   "source": [
    "import numpy as np\n",
    "import matplotlib.pyplot as plt\n",
    "import cv2"
   ]
  },
  {
   "cell_type": "code",
   "execution_count": 2,
   "metadata": {},
   "outputs": [],
   "source": [
    "#Oak_generate\n",
    "for i in range(0, 100, 1):\n",
    "    img = np.zeros((16,16,3), np.uint8)\n",
    "\n",
    "    img = cv2.line(img,(7,2),(7,12),(255,255,255),1)\n",
    "    img = cv2.line(img,(8,2),(8,12),(255,255,255),1)\n",
    "    img = cv2.rectangle(img, (3,2),(12,8),(255,255,255), -1)\n",
    "\n",
    "    num_rand = np.random.randint(low=2, high=8, size=4)\n",
    "    num_rand_2 = np.random.randint(low=2, high=4, size=2)\n",
    "\n",
    "    img = cv2.line(img, (3,2), (3, num_rand[0]), (0,0,0), 1)\n",
    "    img = cv2.line(img, (4,2), (4, num_rand_2[0]), (0,0,0), 1)\n",
    "    img = cv2.line(img, (11,2), (11, num_rand_2[1]), (0,0,0), 1)\n",
    "    img = cv2.line(img, (12,2), (12, num_rand[3]), (0,0,0), 1)\n",
    "\n",
    "    img = cv2.bitwise_not(img)\n",
    "    cv2.imwrite(\"Image/Oak/Oak_\"+str(i+1)+\".png\", img)\n",
    "    cv2.destroyAllWindows()"
   ]
  },
  {
   "cell_type": "code",
   "execution_count": 3,
   "metadata": {},
   "outputs": [
    {
     "data": {
      "text/plain": [
       "<matplotlib.image.AxesImage at 0x1f92a05d888>"
      ]
     },
     "execution_count": 3,
     "metadata": {},
     "output_type": "execute_result"
    },
    {
     "data": {
      "image/png": "[encoded data removed]",
      "text/plain": [
       "<Figure size 432x288 with 1 Axes>"
      ]
     },
     "metadata": {
      "needs_background": "light"
     },
     "output_type": "display_data"
    }
   ],
   "source": [
    "plt.imshow(img, interpolation = \"nearest\")"
   ]
  }
 ],
 "metadata": {
  "kernelspec": {
   "display_name": "Python 3",
   "language": "python",
   "name": "python3"
  },
  "language_info": {
   "codemirror_mode": {
    "name": "ipython",
    "version": 3
   },
   "file_extension": ".py",
   "mimetype": "text/x-python",
   "name": "python",
   "nbconvert_exporter": "python",
   "pygments_lexer": "ipython3",
   "version": "3.7.6"
  }
 },
 "nbformat": 4,
 "nbformat_minor": 4
}
