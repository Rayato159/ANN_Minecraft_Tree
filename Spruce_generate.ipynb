{
 "cells": [
  {
   "cell_type": "code",
   "execution_count": 1,
   "metadata": {},
   "outputs": [],
   "source": [
    "import numpy as np\n",
    "import matplotlib.pyplot as plt\n",
    "import cv2"
   ]
  },
  {
   "cell_type": "code",
   "execution_count": 2,
   "metadata": {},
   "outputs": [
    {
     "data": {
      "image/png": "[encoded data removed]",
      "text/plain": [
       "<Figure size 432x288 with 1 Axes>"
      ]
     },
     "metadata": {
      "needs_background": "light"
     },
     "output_type": "display_data"
    }
   ],
   "source": [
    "#Spruce_generate\n",
    "for j in range(0, 100, 1):\n",
    "    img = np.zeros((16,16,3), np.uint8)\n",
    "\n",
    "    img = cv2.line(img,(7,2),(7,12),(255,255,255),1)\n",
    "    img = cv2.line(img,(8,2),(8,12),(255,255,255),1)\n",
    "\n",
    "    for i in range(2, 10, 1):\n",
    "        n_1 = np.random.randint(low=4, high=7, size=1)\n",
    "        n_2 = np.random.randint(low=8, high=11, size=1)\n",
    "\n",
    "        img = cv2.line(img,(n_1[0] ,i),(7,i),(255,255,255),1)\n",
    "        img = cv2.line(img,(8, i),(n_2[0] ,i),(255,255,255),1)\n",
    "\n",
    "    img = cv2.bitwise_not(img)\n",
    "    plt.imshow(img, interpolation = \"nearest\")\n",
    "    cv2.imwrite(\"Image/Spruce/Spruce_\"+str(j+1)+\".png\", img)\n",
    "    cv2.destroyAllWindows()"
   ]
  }
 ],
 "metadata": {
  "kernelspec": {
   "display_name": "Python 3",
   "language": "python",
   "name": "python3"
  },
  "language_info": {
   "codemirror_mode": {
    "name": "ipython",
    "version": 3
   },
   "file_extension": ".py",
   "mimetype": "text/x-python",
   "name": "python",
   "nbconvert_exporter": "python",
   "pygments_lexer": "ipython3",
   "version": "3.7.6"
  }
 },
 "nbformat": 4,
 "nbformat_minor": 4
}
